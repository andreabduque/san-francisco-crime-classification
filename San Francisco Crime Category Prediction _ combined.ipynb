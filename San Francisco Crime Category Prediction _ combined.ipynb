{
 "cells": [
  {
   "cell_type": "code",
   "execution_count": 35,
   "metadata": {
    "scrolled": true
   },
   "outputs": [],
   "source": [
    "from sklearn.metrics import log_loss, accuracy_score\n",
    "from sklearn.model_selection import train_test_split\n",
    "from sklearn.preprocessing import MinMaxScaler\n",
    "from sklearn.pipeline import make_pipeline\n",
    "from sklearn.ensemble import RandomForestClassifier\n",
    "\n",
    "import matplotlib.pyplot as plt\n",
    "import pandas as pd\n",
    "import numpy as np\n",
    "from collections import Counter\n",
    "import operator"
   ]
  },
  {
   "cell_type": "markdown",
   "metadata": {},
   "source": [
    "# Introducao\n",
    "\n",
    "Nesse notebook iremos analisar os dados relativos aos crimes ocorridos em San Francisco e criaremos modelos para prever a categoria dos crimes ocorridos. Os dados foram disponilizados no Kaggle __[aqui](https://www.kaggle.com/c/sf-crime/data)__ .\n",
    "\n",
    "1. [Analise de dados](#Analise-de-dados)\n",
    "2. [Predicao categoria de crime](#Predicao-categoria-de-crime)\n",
    "3. [Conclusoes](#Conclusoes)"
   ]
  },
  {
   "cell_type": "markdown",
   "metadata": {},
   "source": [
    "# Analise de dados\n",
    "\n",
    "Nessa etapa, carregamos o dataset de treino baixado do kaggle utilizando pandas e analisamos o formato dos dados, numero de instancias e o numero de classes. Criamos tambem visualizacoes para entender melhor o comportamento temporal dos dados e a distribuicao de classes."
   ]
  },
  {
   "cell_type": "code",
   "execution_count": 2,
   "metadata": {},
   "outputs": [
    {
     "data": {
      "text/plain": [
       "(878049, 9)"
      ]
     },
     "execution_count": 2,
     "metadata": {},
     "output_type": "execute_result"
    }
   ],
   "source": [
    "data_original = pd.read_csv(\"train_original.csv\", sep=\",\")\n",
    "data_original.shape"
   ]
  },
  {
   "cell_type": "markdown",
   "metadata": {},
   "source": [
    "Pelo tamanho do numero de instancias, fica dificil utilizar um classificador como SVM, pois o dataset eh muito grande e o treinamento demoraria muito. Uma boa escolha pode ser o modelo random forest."
   ]
  },
  {
   "cell_type": "code",
   "execution_count": 3,
   "metadata": {},
   "outputs": [
    {
     "data": {
      "text/html": [
       "<div>\n",
       "<style scoped>\n",
       "    .dataframe tbody tr th:only-of-type {\n",
       "        vertical-align: middle;\n",
       "    }\n",
       "\n",
       "    .dataframe tbody tr th {\n",
       "        vertical-align: top;\n",
       "    }\n",
       "\n",
       "    .dataframe thead th {\n",
       "        text-align: right;\n",
       "    }\n",
       "</style>\n",
       "<table border=\"1\" class=\"dataframe\">\n",
       "  <thead>\n",
       "    <tr style=\"text-align: right;\">\n",
       "      <th></th>\n",
       "      <th>Dates</th>\n",
       "      <th>Category</th>\n",
       "      <th>Descript</th>\n",
       "      <th>DayOfWeek</th>\n",
       "      <th>PdDistrict</th>\n",
       "      <th>Resolution</th>\n",
       "      <th>Address</th>\n",
       "      <th>X</th>\n",
       "      <th>Y</th>\n",
       "    </tr>\n",
       "  </thead>\n",
       "  <tbody>\n",
       "    <tr>\n",
       "      <th>0</th>\n",
       "      <td>2015-05-13 23:53:00</td>\n",
       "      <td>WARRANTS</td>\n",
       "      <td>WARRANT ARREST</td>\n",
       "      <td>Wednesday</td>\n",
       "      <td>NORTHERN</td>\n",
       "      <td>ARREST, BOOKED</td>\n",
       "      <td>OAK ST / LAGUNA ST</td>\n",
       "      <td>-122.425892</td>\n",
       "      <td>37.774599</td>\n",
       "    </tr>\n",
       "    <tr>\n",
       "      <th>1</th>\n",
       "      <td>2015-05-13 23:53:00</td>\n",
       "      <td>OTHER OFFENSES</td>\n",
       "      <td>TRAFFIC VIOLATION ARREST</td>\n",
       "      <td>Wednesday</td>\n",
       "      <td>NORTHERN</td>\n",
       "      <td>ARREST, BOOKED</td>\n",
       "      <td>OAK ST / LAGUNA ST</td>\n",
       "      <td>-122.425892</td>\n",
       "      <td>37.774599</td>\n",
       "    </tr>\n",
       "    <tr>\n",
       "      <th>2</th>\n",
       "      <td>2015-05-13 23:33:00</td>\n",
       "      <td>OTHER OFFENSES</td>\n",
       "      <td>TRAFFIC VIOLATION ARREST</td>\n",
       "      <td>Wednesday</td>\n",
       "      <td>NORTHERN</td>\n",
       "      <td>ARREST, BOOKED</td>\n",
       "      <td>VANNESS AV / GREENWICH ST</td>\n",
       "      <td>-122.424363</td>\n",
       "      <td>37.800414</td>\n",
       "    </tr>\n",
       "    <tr>\n",
       "      <th>3</th>\n",
       "      <td>2015-05-13 23:30:00</td>\n",
       "      <td>LARCENY/THEFT</td>\n",
       "      <td>GRAND THEFT FROM LOCKED AUTO</td>\n",
       "      <td>Wednesday</td>\n",
       "      <td>NORTHERN</td>\n",
       "      <td>NONE</td>\n",
       "      <td>1500 Block of LOMBARD ST</td>\n",
       "      <td>-122.426995</td>\n",
       "      <td>37.800873</td>\n",
       "    </tr>\n",
       "    <tr>\n",
       "      <th>4</th>\n",
       "      <td>2015-05-13 23:30:00</td>\n",
       "      <td>LARCENY/THEFT</td>\n",
       "      <td>GRAND THEFT FROM LOCKED AUTO</td>\n",
       "      <td>Wednesday</td>\n",
       "      <td>PARK</td>\n",
       "      <td>NONE</td>\n",
       "      <td>100 Block of BRODERICK ST</td>\n",
       "      <td>-122.438738</td>\n",
       "      <td>37.771541</td>\n",
       "    </tr>\n",
       "  </tbody>\n",
       "</table>\n",
       "</div>"
      ],
      "text/plain": [
       "                 Dates        Category                      Descript  \\\n",
       "0  2015-05-13 23:53:00        WARRANTS                WARRANT ARREST   \n",
       "1  2015-05-13 23:53:00  OTHER OFFENSES      TRAFFIC VIOLATION ARREST   \n",
       "2  2015-05-13 23:33:00  OTHER OFFENSES      TRAFFIC VIOLATION ARREST   \n",
       "3  2015-05-13 23:30:00   LARCENY/THEFT  GRAND THEFT FROM LOCKED AUTO   \n",
       "4  2015-05-13 23:30:00   LARCENY/THEFT  GRAND THEFT FROM LOCKED AUTO   \n",
       "\n",
       "   DayOfWeek PdDistrict      Resolution                    Address  \\\n",
       "0  Wednesday   NORTHERN  ARREST, BOOKED         OAK ST / LAGUNA ST   \n",
       "1  Wednesday   NORTHERN  ARREST, BOOKED         OAK ST / LAGUNA ST   \n",
       "2  Wednesday   NORTHERN  ARREST, BOOKED  VANNESS AV / GREENWICH ST   \n",
       "3  Wednesday   NORTHERN            NONE   1500 Block of LOMBARD ST   \n",
       "4  Wednesday       PARK            NONE  100 Block of BRODERICK ST   \n",
       "\n",
       "            X          Y  \n",
       "0 -122.425892  37.774599  \n",
       "1 -122.425892  37.774599  \n",
       "2 -122.424363  37.800414  \n",
       "3 -122.426995  37.800873  \n",
       "4 -122.438738  37.771541  "
      ]
     },
     "execution_count": 3,
     "metadata": {},
     "output_type": "execute_result"
    }
   ],
   "source": [
    "data_original.head()"
   ]
  },
  {
   "cell_type": "markdown",
   "metadata": {},
   "source": [
    "Podemos quebrar a data em atributos como dia, mes e ano e utilizar como features no classificador."
   ]
  },
  {
   "cell_type": "code",
   "execution_count": 4,
   "metadata": {},
   "outputs": [],
   "source": [
    "data = pd.read_csv(\"train.csv\", sep=\",\")"
   ]
  },
  {
   "cell_type": "code",
   "execution_count": 5,
   "metadata": {},
   "outputs": [
    {
     "data": {
      "text/plain": [
       "(878049, 8)"
      ]
     },
     "execution_count": 5,
     "metadata": {},
     "output_type": "execute_result"
    }
   ],
   "source": [
    "data.shape"
   ]
  },
  {
   "cell_type": "markdown",
   "metadata": {},
   "source": [
    "### Dataset modificado com a data transformada em atributos"
   ]
  },
  {
   "cell_type": "code",
   "execution_count": 6,
   "metadata": {},
   "outputs": [
    {
     "data": {
      "text/html": [
       "<div>\n",
       "<style scoped>\n",
       "    .dataframe tbody tr th:only-of-type {\n",
       "        vertical-align: middle;\n",
       "    }\n",
       "\n",
       "    .dataframe tbody tr th {\n",
       "        vertical-align: top;\n",
       "    }\n",
       "\n",
       "    .dataframe thead th {\n",
       "        text-align: right;\n",
       "    }\n",
       "</style>\n",
       "<table border=\"1\" class=\"dataframe\">\n",
       "  <thead>\n",
       "    <tr style=\"text-align: right;\">\n",
       "      <th></th>\n",
       "      <th>Year</th>\n",
       "      <th>Month</th>\n",
       "      <th>Day</th>\n",
       "      <th>Hour</th>\n",
       "      <th>Category</th>\n",
       "      <th>DayOfWeek</th>\n",
       "      <th>X</th>\n",
       "      <th>Y</th>\n",
       "    </tr>\n",
       "  </thead>\n",
       "  <tbody>\n",
       "    <tr>\n",
       "      <th>0</th>\n",
       "      <td>2015</td>\n",
       "      <td>5</td>\n",
       "      <td>13</td>\n",
       "      <td>23</td>\n",
       "      <td>WARRANTS</td>\n",
       "      <td>Wednesday</td>\n",
       "      <td>-122.425892</td>\n",
       "      <td>37.774599</td>\n",
       "    </tr>\n",
       "    <tr>\n",
       "      <th>1</th>\n",
       "      <td>2015</td>\n",
       "      <td>5</td>\n",
       "      <td>13</td>\n",
       "      <td>23</td>\n",
       "      <td>OTHER OFFENSES</td>\n",
       "      <td>Wednesday</td>\n",
       "      <td>-122.425892</td>\n",
       "      <td>37.774599</td>\n",
       "    </tr>\n",
       "    <tr>\n",
       "      <th>2</th>\n",
       "      <td>2015</td>\n",
       "      <td>5</td>\n",
       "      <td>13</td>\n",
       "      <td>23</td>\n",
       "      <td>OTHER OFFENSES</td>\n",
       "      <td>Wednesday</td>\n",
       "      <td>-122.424363</td>\n",
       "      <td>37.800414</td>\n",
       "    </tr>\n",
       "    <tr>\n",
       "      <th>3</th>\n",
       "      <td>2015</td>\n",
       "      <td>5</td>\n",
       "      <td>13</td>\n",
       "      <td>23</td>\n",
       "      <td>LARCENY/THEFT</td>\n",
       "      <td>Wednesday</td>\n",
       "      <td>-122.426995</td>\n",
       "      <td>37.800873</td>\n",
       "    </tr>\n",
       "    <tr>\n",
       "      <th>4</th>\n",
       "      <td>2015</td>\n",
       "      <td>5</td>\n",
       "      <td>13</td>\n",
       "      <td>23</td>\n",
       "      <td>LARCENY/THEFT</td>\n",
       "      <td>Wednesday</td>\n",
       "      <td>-122.438738</td>\n",
       "      <td>37.771541</td>\n",
       "    </tr>\n",
       "  </tbody>\n",
       "</table>\n",
       "</div>"
      ],
      "text/plain": [
       "   Year  Month  Day  Hour        Category  DayOfWeek           X          Y\n",
       "0  2015      5   13    23        WARRANTS  Wednesday -122.425892  37.774599\n",
       "1  2015      5   13    23  OTHER OFFENSES  Wednesday -122.425892  37.774599\n",
       "2  2015      5   13    23  OTHER OFFENSES  Wednesday -122.424363  37.800414\n",
       "3  2015      5   13    23   LARCENY/THEFT  Wednesday -122.426995  37.800873\n",
       "4  2015      5   13    23   LARCENY/THEFT  Wednesday -122.438738  37.771541"
      ]
     },
     "execution_count": 6,
     "metadata": {},
     "output_type": "execute_result"
    }
   ],
   "source": [
    "data.head()"
   ]
  },
  {
   "cell_type": "markdown",
   "metadata": {},
   "source": [
    "## Analise do numero de classes\n",
    "\n",
    "O objetivo para esses dados eh prever a categoria do crime. Analisando o numero de classes dos dados, podemos perceber outro desafio em relacao aos dados. Sao 39 o numero de classes, e bastante desbalanceadas, o que torna ambos undersampling e oversampling desafiadores."
   ]
  },
  {
   "cell_type": "code",
   "execution_count": 7,
   "metadata": {},
   "outputs": [
    {
     "data": {
      "text/plain": [
       "array(['ARSON', 'ASSAULT', 'BAD CHECKS', 'BRIBERY', 'BURGLARY',\n",
       "       'DISORDERLY CONDUCT', 'DRIVING UNDER THE INFLUENCE',\n",
       "       'DRUG/NARCOTIC', 'DRUNKENNESS', 'EMBEZZLEMENT', 'EXTORTION',\n",
       "       'FAMILY OFFENSES', 'FORGERY/COUNTERFEITING', 'FRAUD', 'GAMBLING',\n",
       "       'KIDNAPPING', 'LARCENY/THEFT', 'LIQUOR LAWS', 'LOITERING',\n",
       "       'MISSING PERSON', 'NON-CRIMINAL', 'OTHER OFFENSES',\n",
       "       'PORNOGRAPHY/OBSCENE MAT', 'PROSTITUTION', 'RECOVERED VEHICLE',\n",
       "       'ROBBERY', 'RUNAWAY', 'SECONDARY CODES', 'SEX OFFENSES FORCIBLE',\n",
       "       'SEX OFFENSES NON FORCIBLE', 'STOLEN PROPERTY', 'SUICIDE',\n",
       "       'SUSPICIOUS OCC', 'TREA', 'TRESPASS', 'VANDALISM', 'VEHICLE THEFT',\n",
       "       'WARRANTS', 'WEAPON LAWS'], dtype=object)"
      ]
     },
     "execution_count": 7,
     "metadata": {},
     "output_type": "execute_result"
    }
   ],
   "source": [
    "np.unique(data[\"Category\"])"
   ]
  },
  {
   "cell_type": "code",
   "execution_count": 8,
   "metadata": {},
   "outputs": [
    {
     "data": {
      "text/plain": [
       "39"
      ]
     },
     "execution_count": 8,
     "metadata": {},
     "output_type": "execute_result"
    }
   ],
   "source": [
    "len(np.unique(data[\"Category\"]))"
   ]
  },
  {
   "cell_type": "markdown",
   "metadata": {},
   "source": [
    "### Categoria de crime por numero de instancias"
   ]
  },
  {
   "cell_type": "code",
   "execution_count": 9,
   "metadata": {
    "scrolled": true
   },
   "outputs": [
    {
     "data": {
      "text/plain": [
       "Category\n",
       "TREA                                6\n",
       "PORNOGRAPHY/OBSCENE MAT            22\n",
       "GAMBLING                          146\n",
       "SEX OFFENSES NON FORCIBLE         148\n",
       "EXTORTION                         256\n",
       "BRIBERY                           289\n",
       "BAD CHECKS                        406\n",
       "FAMILY OFFENSES                   491\n",
       "SUICIDE                           508\n",
       "EMBEZZLEMENT                     1166\n",
       "LOITERING                        1225\n",
       "ARSON                            1513\n",
       "LIQUOR LAWS                      1903\n",
       "RUNAWAY                          1946\n",
       "DRIVING UNDER THE INFLUENCE      2268\n",
       "KIDNAPPING                       2341\n",
       "RECOVERED VEHICLE                3138\n",
       "DRUNKENNESS                      4280\n",
       "DISORDERLY CONDUCT               4320\n",
       "SEX OFFENSES FORCIBLE            4388\n",
       "STOLEN PROPERTY                  4540\n",
       "TRESPASS                         7326\n",
       "PROSTITUTION                     7484\n",
       "WEAPON LAWS                      8555\n",
       "SECONDARY CODES                  9985\n",
       "FORGERY/COUNTERFEITING          10609\n",
       "FRAUD                           16679\n",
       "ROBBERY                         23000\n",
       "MISSING PERSON                  25989\n",
       "SUSPICIOUS OCC                  31414\n",
       "BURGLARY                        36755\n",
       "WARRANTS                        42214\n",
       "VANDALISM                       44725\n",
       "VEHICLE THEFT                   53781\n",
       "DRUG/NARCOTIC                   53971\n",
       "ASSAULT                         76876\n",
       "NON-CRIMINAL                    92304\n",
       "OTHER OFFENSES                 126182\n",
       "LARCENY/THEFT                  174900\n",
       "Name: Category, dtype: int64"
      ]
     },
     "execution_count": 9,
     "metadata": {},
     "output_type": "execute_result"
    }
   ],
   "source": [
    "data.groupby('Category')['Category'].count().sort_values(ascending=True)"
   ]
  },
  {
   "cell_type": "markdown",
   "metadata": {},
   "source": [
    "### Pie chart de categorias de crime\n",
    "\n",
    "Para visualizar a distribuicao de tipos de crime, podemos fazer um pie chart. Esse gráfico ilustra a frequência histórica de cada crime. Foram escolhidos os 9 crimes mais frequentes e o restante é representado pela categoria \"EVERYTHING ELSE\"."
   ]
  },
  {
   "cell_type": "code",
   "execution_count": 36,
   "metadata": {},
   "outputs": [
    {
     "data": {
      "image/png": "[encoded data removed]",
      "text/plain": [
       "<Figure size 432x288 with 1 Axes>"
      ]
     },
     "metadata": {},
     "output_type": "display_data"
    }
   ],
   "source": [
    "count = Counter(data.Category)\n",
    "key = sorted(count, key=count.__getitem__, reverse=True)\n",
    "value = sorted(count.values(), reverse=True)\n",
    "\n",
    "labels = key[:9]\n",
    "labels.append(\"EVERYTHING ELSE\")\n",
    "frequency = value[:9]\n",
    "frequency.append(sum(value[9:]))\n",
    "\n",
    "plt.pie(frequency, labels=labels, startangle=90, autopct='%.1f%%')\n",
    "plt.show()"
   ]
  },
  {
   "cell_type": "markdown",
   "metadata": {},
   "source": [
    "## Analise temporal\n",
    "\n",
    "Pode-se analisar a distribuicao temporal dos dados criando graficos de barra empilhados por categoria de crime para ano, mes, dia da semana e hora."
   ]
  },
  {
   "cell_type": "markdown",
   "metadata": {},
   "source": [
    "### Analise de categoria de crimes por ano\n",
    "\n",
    "Verifica-se que a quantidade de crimes cometidos oscilou pouco, ocorrendo uma leve redução entre os anos 2003 e 2011. Em 2013, porém, registrou-se o maior número de crimes comparados aos últimos anos. Em 2015, os crimes foram registrados até o mês de maio, o que tornou a análise incompleta para o mesmo ano."
   ]
  },
  {
   "cell_type": "code",
   "execution_count": 38,
   "metadata": {},
   "outputs": [
    {
     "data": {
      "image/png": "[encoded data removed]",
      "text/plain": [
       "<Figure size 720x360 with 1 Axes>"
      ]
     },
     "metadata": {},
     "output_type": "display_data"
    }
   ],
   "source": [
    "list_years = np.sort(data.Year.unique())\n",
    "\n",
    "larceny = []\n",
    "other = []\n",
    "narcotic = []\n",
    "assault = []\n",
    "eelse = []\n",
    "\n",
    "for i in list_years:\n",
    "    count = Counter(data.Category.loc[data.Year == i])\n",
    "    value = sorted(count.values(), reverse=True)\n",
    "    larceny.append(count.get(\"LARCENY/THEFT\"))\n",
    "    other.append(count.get(\"OTHER OFFENSES\"))\n",
    "    narcotic.append(count.get(\"DRUG/NARCOTIC\"))\n",
    "    assault.append(count.get(\"ASSAULT\"))\n",
    "    eelse.append(sum(value) - larceny[-1] - other[-1] - narcotic[-1] - assault[-1])\n",
    "\n",
    "N = len(list_years)\n",
    "\n",
    "ind = np.arange(N)    # the x locations for the groups\n",
    "width = 0.35       # the width of the bars: can also be len(x) sequence\n",
    "\n",
    "plt.figure(figsize = (10,5))\n",
    "\n",
    "p1 = plt.bar(ind, eelse, width)\n",
    "p2 = plt.bar(ind, assault, width, bottom = eelse)\n",
    "p3 = plt.bar(ind, narcotic, width, bottom = list(np.array(eelse) + np.array(assault)))\n",
    "p4 = plt.bar(ind, other, width, bottom = list(np.array(eelse) + np.array(assault) + np.array(narcotic)))\n",
    "p5 = plt.bar(ind, larceny, width, bottom = list(np.array(eelse) + np.array(assault) + np.array(narcotic) + np.array(other)))\n",
    "\n",
    "plt.xlabel('Year')\n",
    "plt.ylabel('Frequency')\n",
    "plt.title('Crime Categories - Distribution of Year')\n",
    "plt.xticks(ind, list_years)\n",
    "plt.legend((p1[0], p2[0], p3[0], p4[0], p5[0]), ('Everything else', 'Assault', 'Drug/Narcotic', 'Other offenses', 'Larceny/Theft'), loc='lower left')\n",
    "\n",
    "plt.show()"
   ]
  },
  {
   "cell_type": "markdown",
   "metadata": {},
   "source": [
    "### Analise de categoria de crimes por hora do dia\n",
    "\n",
    "Verifica-se que o tipo de crime cometido varia bastante ao longo do dia em comparacao a variacao anual. \n",
    "Em determinadas horas do dia, \"outras ofensas\" torna-se mais frequente do que \"furtos/roubos\". \n",
    "O horário \"pico\" de crimes são às 18 h.\n",
    "\n"
   ]
  },
  {
   "cell_type": "code",
   "execution_count": 44,
   "metadata": {},
   "outputs": [
    {
     "data": {
      "image/png": "[encoded data removed]",
      "text/plain": [
       "<Figure size 1080x504 with 1 Axes>"
      ]
     },
     "metadata": {},
     "output_type": "display_data"
    }
   ],
   "source": [
    "list_hour = np.sort(data.Hour.unique())\n",
    "\n",
    "larceny = []\n",
    "other = []\n",
    "narcotic = []\n",
    "assault = []\n",
    "eelse = []\n",
    "\n",
    "for h in list_hour:\n",
    "    count = Counter(data.Category.loc[data.Hour == h])\n",
    "    value = sorted(count.values(), reverse=True)\n",
    "    larceny.append(count.get(\"LARCENY/THEFT\"))\n",
    "    other.append(count.get(\"OTHER OFFENSES\"))\n",
    "    narcotic.append(count.get(\"DRUG/NARCOTIC\"))\n",
    "    assault.append(count.get(\"ASSAULT\"))\n",
    "    eelse.append(sum(value) - larceny[-1] - other[-1] - narcotic[-1] - assault[-1])\n",
    "    \n",
    "N = len(list_hour)\n",
    "\n",
    "ind = np.arange(N)    # the x locations for the groups\n",
    "width = 0.4       # the width of the bars: can also be len(x) sequence\n",
    "\n",
    "plt.figure(figsize = (15,7))\n",
    "\n",
    "p1 = plt.bar(ind, eelse, width)\n",
    "p2 = plt.bar(ind, assault, width, bottom = eelse)\n",
    "p3 = plt.bar(ind, narcotic, width, bottom = list(np.array(eelse) + np.array(assault)))\n",
    "p4 = plt.bar(ind, other, width, bottom = list(np.array(eelse) + np.array(assault) + np.array(narcotic)))\n",
    "p5 = plt.bar(ind, larceny, width, bottom = list(np.array(eelse) + np.array(assault) + np.array(narcotic) + np.array(other)))\n",
    "\n",
    "plt.xlabel('Hour of Day')\n",
    "plt.ylabel('Frequency')\n",
    "plt.title('Crime Categories - Distribution of Hour')\n",
    "plt.xticks(ind, list_hour)\n",
    "plt.legend((p1[0], p2[0], p3[0], p4[0], p5[0]), ('Everything else', 'Assault', 'Drug/Narcotic', 'Other offenses', 'Larceny/Theft'), loc='upper left')\n",
    "\n",
    "plt.show()"
   ]
  },
  {
   "cell_type": "markdown",
   "metadata": {},
   "source": [
    "# Predicao categoria de crime\n",
    "\n",
    "## Utilizando coordenadas X e Y\n",
    "\n",
    "Primeiramente, treinamos random forest apenas nos dados de localizacao (atributos X e Y) por um esquema 80% treino 20% teste, feitos estratificadamente para manter a distribuicao das classes."
   ]
  },
  {
   "cell_type": "code",
   "execution_count": 10,
   "metadata": {},
   "outputs": [],
   "source": [
    "X_train, X_test, y_train, y_test = train_test_split(data[[\"X\",\"Y\"]], data[\"Category\"], test_size=0.2, stratify=data['Category'])\n",
    "scaler = MinMaxScaler()"
   ]
  },
  {
   "cell_type": "code",
   "execution_count": 11,
   "metadata": {},
   "outputs": [],
   "source": [
    "clf = make_pipeline(MinMaxScaler(), RandomForestClassifier(n_estimators=150,  max_depth=20, n_jobs=2))"
   ]
  },
  {
   "cell_type": "code",
   "execution_count": 12,
   "metadata": {},
   "outputs": [
    {
     "data": {
      "text/plain": [
       "Pipeline(memory=None,\n",
       "     steps=[('minmaxscaler', MinMaxScaler(copy=True, feature_range=(0, 1))), ('randomforestclassifier', RandomForestClassifier(bootstrap=True, class_weight=None, criterion='gini',\n",
       "            max_depth=20, max_features='auto', max_leaf_nodes=None,\n",
       "            min_impurity_decrease=0.0, min_impurity_split...n_jobs=4,\n",
       "            oob_score=False, random_state=None, verbose=0,\n",
       "            warm_start=False))])"
      ]
     },
     "execution_count": 12,
     "metadata": {},
     "output_type": "execute_result"
    }
   ],
   "source": [
    "clf.fit(X_train, y_train)"
   ]
  },
  {
   "cell_type": "markdown",
   "metadata": {},
   "source": [
    "### Log Loss"
   ]
  },
  {
   "cell_type": "markdown",
   "metadata": {},
   "source": [
    "Como a metrica de desempenho pedido pelo Kaggle eh o log loss, temos que pegar como saida do classificador as probabilidades previstas."
   ]
  },
  {
   "cell_type": "code",
   "execution_count": 13,
   "metadata": {},
   "outputs": [],
   "source": [
    "pred = clf.predict_proba(X_test)"
   ]
  },
  {
   "cell_type": "code",
   "execution_count": 14,
   "metadata": {},
   "outputs": [
    {
     "data": {
      "text/plain": [
       "(175610, 39)"
      ]
     },
     "execution_count": 14,
     "metadata": {},
     "output_type": "execute_result"
    }
   ],
   "source": [
    "pred.shape"
   ]
  },
  {
   "cell_type": "code",
   "execution_count": 15,
   "metadata": {},
   "outputs": [
    {
     "data": {
      "text/plain": [
       "2.5838000471708034"
      ]
     },
     "execution_count": 15,
     "metadata": {},
     "output_type": "execute_result"
    }
   ],
   "source": [
    "log_loss(y_test, pred)"
   ]
  },
  {
   "cell_type": "markdown",
   "metadata": {},
   "source": [
    "### Ajustando parametros"
   ]
  },
  {
   "cell_type": "markdown",
   "metadata": {},
   "source": [
    "Como nao sabemos os melhores parametros para o modelos, iremos ajusta-lo no esquema 3-fold cross validation utilizando busca em grid. Primeiramente utilizaremos tambem apenas os dados das coordenadas X e Y. O pipeline que  implementamos na classe ClassifierPipeline, aplica scaling de 0 a 1 nos dados das coordenadas e uma busca em grid do classificador desejado. Atentar que o output da funcao eh o log loss negado porque a busca em grid sempre maximiza o valor do score por default, portanto valores que devem ser minimizados possuem seus valores negados."
   ]
  },
  {
   "cell_type": "code",
   "execution_count": 16,
   "metadata": {},
   "outputs": [],
   "source": [
    "from model_tuning import ClassifierPipeline"
   ]
  },
  {
   "cell_type": "markdown",
   "metadata": {},
   "source": [
    "Nos eh retornado a melhor combinacao de parametros do grid colocado. O resultado foi um pouco melhor do que o parametro que colocamos na divisao 80/20."
   ]
  },
  {
   "cell_type": "code",
   "execution_count": 17,
   "metadata": {},
   "outputs": [
    {
     "name": "stdout",
     "output_type": "stream",
     "text": [
      "Best score: -2.478\n",
      "Best parameters set:\n",
      "\tclf__max_depth: 10\n",
      "\tclf__n_estimators: 250\n"
     ]
    }
   ],
   "source": [
    "rf_parameters = {\n",
    "        \"n_estimators\":[150, 200, 250],\n",
    "        \"max_depth\": [10,15,20]\n",
    "}\n",
    "pipeline = ClassifierPipeline(RandomForestClassifier(), rf_parameters, n_jobs=2)\n",
    "pipeline.fit(data[[\"X\",\"Y\"]], data[\"Category\"])\n"
   ]
  },
  {
   "cell_type": "markdown",
   "metadata": {},
   "source": [
    "Eh possivel tambem visualizar os resultados para cada combinacao desejada."
   ]
  },
  {
   "cell_type": "code",
   "execution_count": 18,
   "metadata": {},
   "outputs": [
    {
     "data": {
      "text/html": [
       "<div>\n",
       "<style scoped>\n",
       "    .dataframe tbody tr th:only-of-type {\n",
       "        vertical-align: middle;\n",
       "    }\n",
       "\n",
       "    .dataframe tbody tr th {\n",
       "        vertical-align: top;\n",
       "    }\n",
       "\n",
       "    .dataframe thead th {\n",
       "        text-align: right;\n",
       "    }\n",
       "</style>\n",
       "<table border=\"1\" class=\"dataframe\">\n",
       "  <thead>\n",
       "    <tr style=\"text-align: right;\">\n",
       "      <th></th>\n",
       "      <th>mean_fit_time</th>\n",
       "      <th>std_fit_time</th>\n",
       "      <th>mean_score_time</th>\n",
       "      <th>std_score_time</th>\n",
       "      <th>param_clf__max_depth</th>\n",
       "      <th>param_clf__n_estimators</th>\n",
       "      <th>params</th>\n",
       "      <th>split0_test_score</th>\n",
       "      <th>split1_test_score</th>\n",
       "      <th>split2_test_score</th>\n",
       "      <th>mean_test_score</th>\n",
       "      <th>std_test_score</th>\n",
       "      <th>rank_test_score</th>\n",
       "    </tr>\n",
       "  </thead>\n",
       "  <tbody>\n",
       "    <tr>\n",
       "      <th>0</th>\n",
       "      <td>107.001906</td>\n",
       "      <td>0.843753</td>\n",
       "      <td>14.374518</td>\n",
       "      <td>0.039568</td>\n",
       "      <td>10</td>\n",
       "      <td>150</td>\n",
       "      <td>{'clf__max_depth': 10, 'clf__n_estimators': 150}</td>\n",
       "      <td>-2.506033</td>\n",
       "      <td>-2.448943</td>\n",
       "      <td>-2.483142</td>\n",
       "      <td>-2.479373</td>\n",
       "      <td>0.023459</td>\n",
       "      <td>3</td>\n",
       "    </tr>\n",
       "    <tr>\n",
       "      <th>1</th>\n",
       "      <td>140.700231</td>\n",
       "      <td>1.172925</td>\n",
       "      <td>18.863728</td>\n",
       "      <td>0.183730</td>\n",
       "      <td>10</td>\n",
       "      <td>200</td>\n",
       "      <td>{'clf__max_depth': 10, 'clf__n_estimators': 200}</td>\n",
       "      <td>-2.506696</td>\n",
       "      <td>-2.447674</td>\n",
       "      <td>-2.484952</td>\n",
       "      <td>-2.479775</td>\n",
       "      <td>0.024372</td>\n",
       "      <td>4</td>\n",
       "    </tr>\n",
       "    <tr>\n",
       "      <th>2</th>\n",
       "      <td>175.722402</td>\n",
       "      <td>1.478251</td>\n",
       "      <td>23.556669</td>\n",
       "      <td>0.428332</td>\n",
       "      <td>10</td>\n",
       "      <td>250</td>\n",
       "      <td>{'clf__max_depth': 10, 'clf__n_estimators': 250}</td>\n",
       "      <td>-2.505753</td>\n",
       "      <td>-2.448543</td>\n",
       "      <td>-2.480879</td>\n",
       "      <td>-2.478392</td>\n",
       "      <td>0.023422</td>\n",
       "      <td>1</td>\n",
       "    </tr>\n",
       "    <tr>\n",
       "      <th>3</th>\n",
       "      <td>121.343305</td>\n",
       "      <td>1.389591</td>\n",
       "      <td>17.369820</td>\n",
       "      <td>0.502810</td>\n",
       "      <td>15</td>\n",
       "      <td>150</td>\n",
       "      <td>{'clf__max_depth': 15, 'clf__n_estimators': 150}</td>\n",
       "      <td>-2.515952</td>\n",
       "      <td>-2.433258</td>\n",
       "      <td>-2.505791</td>\n",
       "      <td>-2.485001</td>\n",
       "      <td>0.036822</td>\n",
       "      <td>6</td>\n",
       "    </tr>\n",
       "    <tr>\n",
       "      <th>4</th>\n",
       "      <td>160.164636</td>\n",
       "      <td>0.602939</td>\n",
       "      <td>22.831981</td>\n",
       "      <td>0.435058</td>\n",
       "      <td>15</td>\n",
       "      <td>200</td>\n",
       "      <td>{'clf__max_depth': 15, 'clf__n_estimators': 200}</td>\n",
       "      <td>-2.515615</td>\n",
       "      <td>-2.429887</td>\n",
       "      <td>-2.498634</td>\n",
       "      <td>-2.481379</td>\n",
       "      <td>0.037064</td>\n",
       "      <td>5</td>\n",
       "    </tr>\n",
       "    <tr>\n",
       "      <th>5</th>\n",
       "      <td>204.226629</td>\n",
       "      <td>3.761786</td>\n",
       "      <td>30.541275</td>\n",
       "      <td>1.958017</td>\n",
       "      <td>15</td>\n",
       "      <td>250</td>\n",
       "      <td>{'clf__max_depth': 15, 'clf__n_estimators': 250}</td>\n",
       "      <td>-2.511040</td>\n",
       "      <td>-2.429340</td>\n",
       "      <td>-2.496182</td>\n",
       "      <td>-2.478854</td>\n",
       "      <td>0.035534</td>\n",
       "      <td>2</td>\n",
       "    </tr>\n",
       "    <tr>\n",
       "      <th>6</th>\n",
       "      <td>128.117592</td>\n",
       "      <td>3.876016</td>\n",
       "      <td>19.788930</td>\n",
       "      <td>0.124079</td>\n",
       "      <td>20</td>\n",
       "      <td>150</td>\n",
       "      <td>{'clf__max_depth': 20, 'clf__n_estimators': 150}</td>\n",
       "      <td>-2.835732</td>\n",
       "      <td>-2.670048</td>\n",
       "      <td>-2.788839</td>\n",
       "      <td>-2.764874</td>\n",
       "      <td>0.069731</td>\n",
       "      <td>9</td>\n",
       "    </tr>\n",
       "    <tr>\n",
       "      <th>7</th>\n",
       "      <td>169.841316</td>\n",
       "      <td>2.587281</td>\n",
       "      <td>25.984079</td>\n",
       "      <td>0.217235</td>\n",
       "      <td>20</td>\n",
       "      <td>200</td>\n",
       "      <td>{'clf__max_depth': 20, 'clf__n_estimators': 200}</td>\n",
       "      <td>-2.803182</td>\n",
       "      <td>-2.654783</td>\n",
       "      <td>-2.760485</td>\n",
       "      <td>-2.739484</td>\n",
       "      <td>0.062377</td>\n",
       "      <td>8</td>\n",
       "    </tr>\n",
       "    <tr>\n",
       "      <th>8</th>\n",
       "      <td>209.408009</td>\n",
       "      <td>2.666703</td>\n",
       "      <td>32.485311</td>\n",
       "      <td>2.662955</td>\n",
       "      <td>20</td>\n",
       "      <td>250</td>\n",
       "      <td>{'clf__max_depth': 20, 'clf__n_estimators': 250}</td>\n",
       "      <td>-2.788637</td>\n",
       "      <td>-2.638065</td>\n",
       "      <td>-2.739939</td>\n",
       "      <td>-2.722215</td>\n",
       "      <td>0.062736</td>\n",
       "      <td>7</td>\n",
       "    </tr>\n",
       "  </tbody>\n",
       "</table>\n",
       "</div>"
      ],
      "text/plain": [
       "   mean_fit_time  std_fit_time  mean_score_time  std_score_time  \\\n",
       "0     107.001906      0.843753        14.374518        0.039568   \n",
       "1     140.700231      1.172925        18.863728        0.183730   \n",
       "2     175.722402      1.478251        23.556669        0.428332   \n",
       "3     121.343305      1.389591        17.369820        0.502810   \n",
       "4     160.164636      0.602939        22.831981        0.435058   \n",
       "5     204.226629      3.761786        30.541275        1.958017   \n",
       "6     128.117592      3.876016        19.788930        0.124079   \n",
       "7     169.841316      2.587281        25.984079        0.217235   \n",
       "8     209.408009      2.666703        32.485311        2.662955   \n",
       "\n",
       "  param_clf__max_depth param_clf__n_estimators  \\\n",
       "0                   10                     150   \n",
       "1                   10                     200   \n",
       "2                   10                     250   \n",
       "3                   15                     150   \n",
       "4                   15                     200   \n",
       "5                   15                     250   \n",
       "6                   20                     150   \n",
       "7                   20                     200   \n",
       "8                   20                     250   \n",
       "\n",
       "                                             params  split0_test_score  \\\n",
       "0  {'clf__max_depth': 10, 'clf__n_estimators': 150}          -2.506033   \n",
       "1  {'clf__max_depth': 10, 'clf__n_estimators': 200}          -2.506696   \n",
       "2  {'clf__max_depth': 10, 'clf__n_estimators': 250}          -2.505753   \n",
       "3  {'clf__max_depth': 15, 'clf__n_estimators': 150}          -2.515952   \n",
       "4  {'clf__max_depth': 15, 'clf__n_estimators': 200}          -2.515615   \n",
       "5  {'clf__max_depth': 15, 'clf__n_estimators': 250}          -2.511040   \n",
       "6  {'clf__max_depth': 20, 'clf__n_estimators': 150}          -2.835732   \n",
       "7  {'clf__max_depth': 20, 'clf__n_estimators': 200}          -2.803182   \n",
       "8  {'clf__max_depth': 20, 'clf__n_estimators': 250}          -2.788637   \n",
       "\n",
       "   split1_test_score  split2_test_score  mean_test_score  std_test_score  \\\n",
       "0          -2.448943          -2.483142        -2.479373        0.023459   \n",
       "1          -2.447674          -2.484952        -2.479775        0.024372   \n",
       "2          -2.448543          -2.480879        -2.478392        0.023422   \n",
       "3          -2.433258          -2.505791        -2.485001        0.036822   \n",
       "4          -2.429887          -2.498634        -2.481379        0.037064   \n",
       "5          -2.429340          -2.496182        -2.478854        0.035534   \n",
       "6          -2.670048          -2.788839        -2.764874        0.069731   \n",
       "7          -2.654783          -2.760485        -2.739484        0.062377   \n",
       "8          -2.638065          -2.739939        -2.722215        0.062736   \n",
       "\n",
       "   rank_test_score  \n",
       "0                3  \n",
       "1                4  \n",
       "2                1  \n",
       "3                6  \n",
       "4                5  \n",
       "5                2  \n",
       "6                9  \n",
       "7                8  \n",
       "8                7  "
      ]
     },
     "execution_count": 18,
     "metadata": {},
     "output_type": "execute_result"
    }
   ],
   "source": [
    "pipeline.get_cv_results()"
   ]
  },
  {
   "cell_type": "markdown",
   "metadata": {},
   "source": [
    "## Utilizando Dia da Semana, Mes e Coordenadas\n",
    "Agora, utilizaremos tambem os dados temporais. Para isso, temos que transformar as colunas categoricas para numericas, no caso utilizaremos inicialmente dia da semana e mes."
   ]
  },
  {
   "cell_type": "code",
   "execution_count": 47,
   "metadata": {},
   "outputs": [
    {
     "data": {
      "text/html": [
       "<div>\n",
       "<style scoped>\n",
       "    .dataframe tbody tr th:only-of-type {\n",
       "        vertical-align: middle;\n",
       "    }\n",
       "\n",
       "    .dataframe tbody tr th {\n",
       "        vertical-align: top;\n",
       "    }\n",
       "\n",
       "    .dataframe thead th {\n",
       "        text-align: right;\n",
       "    }\n",
       "</style>\n",
       "<table border=\"1\" class=\"dataframe\">\n",
       "  <thead>\n",
       "    <tr style=\"text-align: right;\">\n",
       "      <th></th>\n",
       "      <th>Category</th>\n",
       "      <th>DayOfWeek</th>\n",
       "      <th>Month</th>\n",
       "      <th>X</th>\n",
       "      <th>Y</th>\n",
       "    </tr>\n",
       "  </thead>\n",
       "  <tbody>\n",
       "    <tr>\n",
       "      <th>0</th>\n",
       "      <td>WARRANTS</td>\n",
       "      <td>Wednesday</td>\n",
       "      <td>5</td>\n",
       "      <td>-122.425892</td>\n",
       "      <td>37.774599</td>\n",
       "    </tr>\n",
       "    <tr>\n",
       "      <th>1</th>\n",
       "      <td>OTHER OFFENSES</td>\n",
       "      <td>Wednesday</td>\n",
       "      <td>5</td>\n",
       "      <td>-122.425892</td>\n",
       "      <td>37.774599</td>\n",
       "    </tr>\n",
       "    <tr>\n",
       "      <th>2</th>\n",
       "      <td>OTHER OFFENSES</td>\n",
       "      <td>Wednesday</td>\n",
       "      <td>5</td>\n",
       "      <td>-122.424363</td>\n",
       "      <td>37.800414</td>\n",
       "    </tr>\n",
       "    <tr>\n",
       "      <th>3</th>\n",
       "      <td>LARCENY/THEFT</td>\n",
       "      <td>Wednesday</td>\n",
       "      <td>5</td>\n",
       "      <td>-122.426995</td>\n",
       "      <td>37.800873</td>\n",
       "    </tr>\n",
       "    <tr>\n",
       "      <th>4</th>\n",
       "      <td>LARCENY/THEFT</td>\n",
       "      <td>Wednesday</td>\n",
       "      <td>5</td>\n",
       "      <td>-122.438738</td>\n",
       "      <td>37.771541</td>\n",
       "    </tr>\n",
       "  </tbody>\n",
       "</table>\n",
       "</div>"
      ],
      "text/plain": [
       "         Category  DayOfWeek  Month           X          Y\n",
       "0        WARRANTS  Wednesday      5 -122.425892  37.774599\n",
       "1  OTHER OFFENSES  Wednesday      5 -122.425892  37.774599\n",
       "2  OTHER OFFENSES  Wednesday      5 -122.424363  37.800414\n",
       "3   LARCENY/THEFT  Wednesday      5 -122.426995  37.800873\n",
       "4   LARCENY/THEFT  Wednesday      5 -122.438738  37.771541"
      ]
     },
     "execution_count": 47,
     "metadata": {},
     "output_type": "execute_result"
    }
   ],
   "source": [
    "tempdf = data[['Category','DayOfWeek', 'Month', 'X', 'Y']]\n",
    "tempdf.head()"
   ]
  },
  {
   "cell_type": "markdown",
   "metadata": {},
   "source": [
    "Binarizando as features categoricas utilizando uma funcao de pandas."
   ]
  },
  {
   "cell_type": "code",
   "execution_count": 48,
   "metadata": {},
   "outputs": [
    {
     "data": {
      "text/html": [
       "<div>\n",
       "<style scoped>\n",
       "    .dataframe tbody tr th:only-of-type {\n",
       "        vertical-align: middle;\n",
       "    }\n",
       "\n",
       "    .dataframe tbody tr th {\n",
       "        vertical-align: top;\n",
       "    }\n",
       "\n",
       "    .dataframe thead th {\n",
       "        text-align: right;\n",
       "    }\n",
       "</style>\n",
       "<table border=\"1\" class=\"dataframe\">\n",
       "  <thead>\n",
       "    <tr style=\"text-align: right;\">\n",
       "      <th></th>\n",
       "      <th>Category</th>\n",
       "      <th>X</th>\n",
       "      <th>Y</th>\n",
       "      <th>Month_1</th>\n",
       "      <th>Month_2</th>\n",
       "      <th>Month_3</th>\n",
       "      <th>Month_4</th>\n",
       "      <th>Month_5</th>\n",
       "      <th>Month_6</th>\n",
       "      <th>Month_7</th>\n",
       "      <th>...</th>\n",
       "      <th>Month_10</th>\n",
       "      <th>Month_11</th>\n",
       "      <th>Month_12</th>\n",
       "      <th>DayOfWeek_Friday</th>\n",
       "      <th>DayOfWeek_Monday</th>\n",
       "      <th>DayOfWeek_Saturday</th>\n",
       "      <th>DayOfWeek_Sunday</th>\n",
       "      <th>DayOfWeek_Thursday</th>\n",
       "      <th>DayOfWeek_Tuesday</th>\n",
       "      <th>DayOfWeek_Wednesday</th>\n",
       "    </tr>\n",
       "  </thead>\n",
       "  <tbody>\n",
       "    <tr>\n",
       "      <th>0</th>\n",
       "      <td>WARRANTS</td>\n",
       "      <td>-122.425892</td>\n",
       "      <td>37.774599</td>\n",
       "      <td>0</td>\n",
       "      <td>0</td>\n",
       "      <td>0</td>\n",
       "      <td>0</td>\n",
       "      <td>1</td>\n",
       "      <td>0</td>\n",
       "      <td>0</td>\n",
       "      <td>...</td>\n",
       "      <td>0</td>\n",
       "      <td>0</td>\n",
       "      <td>0</td>\n",
       "      <td>0</td>\n",
       "      <td>0</td>\n",
       "      <td>0</td>\n",
       "      <td>0</td>\n",
       "      <td>0</td>\n",
       "      <td>0</td>\n",
       "      <td>1</td>\n",
       "    </tr>\n",
       "    <tr>\n",
       "      <th>1</th>\n",
       "      <td>OTHER OFFENSES</td>\n",
       "      <td>-122.425892</td>\n",
       "      <td>37.774599</td>\n",
       "      <td>0</td>\n",
       "      <td>0</td>\n",
       "      <td>0</td>\n",
       "      <td>0</td>\n",
       "      <td>1</td>\n",
       "      <td>0</td>\n",
       "      <td>0</td>\n",
       "      <td>...</td>\n",
       "      <td>0</td>\n",
       "      <td>0</td>\n",
       "      <td>0</td>\n",
       "      <td>0</td>\n",
       "      <td>0</td>\n",
       "      <td>0</td>\n",
       "      <td>0</td>\n",
       "      <td>0</td>\n",
       "      <td>0</td>\n",
       "      <td>1</td>\n",
       "    </tr>\n",
       "    <tr>\n",
       "      <th>2</th>\n",
       "      <td>OTHER OFFENSES</td>\n",
       "      <td>-122.424363</td>\n",
       "      <td>37.800414</td>\n",
       "      <td>0</td>\n",
       "      <td>0</td>\n",
       "      <td>0</td>\n",
       "      <td>0</td>\n",
       "      <td>1</td>\n",
       "      <td>0</td>\n",
       "      <td>0</td>\n",
       "      <td>...</td>\n",
       "      <td>0</td>\n",
       "      <td>0</td>\n",
       "      <td>0</td>\n",
       "      <td>0</td>\n",
       "      <td>0</td>\n",
       "      <td>0</td>\n",
       "      <td>0</td>\n",
       "      <td>0</td>\n",
       "      <td>0</td>\n",
       "      <td>1</td>\n",
       "    </tr>\n",
       "    <tr>\n",
       "      <th>3</th>\n",
       "      <td>LARCENY/THEFT</td>\n",
       "      <td>-122.426995</td>\n",
       "      <td>37.800873</td>\n",
       "      <td>0</td>\n",
       "      <td>0</td>\n",
       "      <td>0</td>\n",
       "      <td>0</td>\n",
       "      <td>1</td>\n",
       "      <td>0</td>\n",
       "      <td>0</td>\n",
       "      <td>...</td>\n",
       "      <td>0</td>\n",
       "      <td>0</td>\n",
       "      <td>0</td>\n",
       "      <td>0</td>\n",
       "      <td>0</td>\n",
       "      <td>0</td>\n",
       "      <td>0</td>\n",
       "      <td>0</td>\n",
       "      <td>0</td>\n",
       "      <td>1</td>\n",
       "    </tr>\n",
       "    <tr>\n",
       "      <th>4</th>\n",
       "      <td>LARCENY/THEFT</td>\n",
       "      <td>-122.438738</td>\n",
       "      <td>37.771541</td>\n",
       "      <td>0</td>\n",
       "      <td>0</td>\n",
       "      <td>0</td>\n",
       "      <td>0</td>\n",
       "      <td>1</td>\n",
       "      <td>0</td>\n",
       "      <td>0</td>\n",
       "      <td>...</td>\n",
       "      <td>0</td>\n",
       "      <td>0</td>\n",
       "      <td>0</td>\n",
       "      <td>0</td>\n",
       "      <td>0</td>\n",
       "      <td>0</td>\n",
       "      <td>0</td>\n",
       "      <td>0</td>\n",
       "      <td>0</td>\n",
       "      <td>1</td>\n",
       "    </tr>\n",
       "  </tbody>\n",
       "</table>\n",
       "<p>5 rows × 22 columns</p>\n",
       "</div>"
      ],
      "text/plain": [
       "         Category           X          Y  Month_1  Month_2  Month_3  Month_4  \\\n",
       "0        WARRANTS -122.425892  37.774599        0        0        0        0   \n",
       "1  OTHER OFFENSES -122.425892  37.774599        0        0        0        0   \n",
       "2  OTHER OFFENSES -122.424363  37.800414        0        0        0        0   \n",
       "3   LARCENY/THEFT -122.426995  37.800873        0        0        0        0   \n",
       "4   LARCENY/THEFT -122.438738  37.771541        0        0        0        0   \n",
       "\n",
       "   Month_5  Month_6  Month_7         ...           Month_10  Month_11  \\\n",
       "0        1        0        0         ...                  0         0   \n",
       "1        1        0        0         ...                  0         0   \n",
       "2        1        0        0         ...                  0         0   \n",
       "3        1        0        0         ...                  0         0   \n",
       "4        1        0        0         ...                  0         0   \n",
       "\n",
       "   Month_12  DayOfWeek_Friday  DayOfWeek_Monday  DayOfWeek_Saturday  \\\n",
       "0         0                 0                 0                   0   \n",
       "1         0                 0                 0                   0   \n",
       "2         0                 0                 0                   0   \n",
       "3         0                 0                 0                   0   \n",
       "4         0                 0                 0                   0   \n",
       "\n",
       "   DayOfWeek_Sunday  DayOfWeek_Thursday  DayOfWeek_Tuesday  \\\n",
       "0                 0                   0                  0   \n",
       "1                 0                   0                  0   \n",
       "2                 0                   0                  0   \n",
       "3                 0                   0                  0   \n",
       "4                 0                   0                  0   \n",
       "\n",
       "   DayOfWeek_Wednesday  \n",
       "0                    1  \n",
       "1                    1  \n",
       "2                    1  \n",
       "3                    1  \n",
       "4                    1  \n",
       "\n",
       "[5 rows x 22 columns]"
      ]
     },
     "execution_count": 48,
     "metadata": {},
     "output_type": "execute_result"
    }
   ],
   "source": [
    "df = pd.get_dummies(tempdf, columns=['Month', 'DayOfWeek'])\n",
    "df.head()"
   ]
  },
  {
   "cell_type": "markdown",
   "metadata": {},
   "source": [
    "### Ajustando parametros\n",
    "Fazendo busca em grid para os melhores parametros."
   ]
  },
  {
   "cell_type": "code",
   "execution_count": 22,
   "metadata": {},
   "outputs": [
    {
     "name": "stdout",
     "output_type": "stream",
     "text": [
      "Best score: -2.580\n",
      "Best parameters set:\n",
      "\tclf__max_depth: 10\n",
      "\tclf__n_estimators: 300\n"
     ]
    }
   ],
   "source": [
    "rf_parameters = {\n",
    "        \"n_estimators\":[250, 300],\n",
    "        \"max_depth\": [5,10]\n",
    "}\n",
    "pipeline = ClassifierPipeline(RandomForestClassifier(), rf_parameters, n_jobs=2)\n",
    "pipeline.fit(df.drop(columns=[\"Category\"]), df['Category'])"
   ]
  },
  {
   "cell_type": "markdown",
   "metadata": {},
   "source": [
    "## Utilizando dia da semana e coordenadas"
   ]
  },
  {
   "cell_type": "markdown",
   "metadata": {},
   "source": [
    "O resultado nao melhorou adicionando mes e dia da semana. Vamos tentar utilizar apenas dia da semana."
   ]
  },
  {
   "cell_type": "code",
   "execution_count": 28,
   "metadata": {},
   "outputs": [
    {
     "data": {
      "text/html": [
       "<div>\n",
       "<style scoped>\n",
       "    .dataframe tbody tr th:only-of-type {\n",
       "        vertical-align: middle;\n",
       "    }\n",
       "\n",
       "    .dataframe tbody tr th {\n",
       "        vertical-align: top;\n",
       "    }\n",
       "\n",
       "    .dataframe thead th {\n",
       "        text-align: right;\n",
       "    }\n",
       "</style>\n",
       "<table border=\"1\" class=\"dataframe\">\n",
       "  <thead>\n",
       "    <tr style=\"text-align: right;\">\n",
       "      <th></th>\n",
       "      <th>Category</th>\n",
       "      <th>DayOfWeek</th>\n",
       "      <th>X</th>\n",
       "      <th>Y</th>\n",
       "    </tr>\n",
       "  </thead>\n",
       "  <tbody>\n",
       "    <tr>\n",
       "      <th>0</th>\n",
       "      <td>WARRANTS</td>\n",
       "      <td>Wednesday</td>\n",
       "      <td>-122.425892</td>\n",
       "      <td>37.774599</td>\n",
       "    </tr>\n",
       "    <tr>\n",
       "      <th>1</th>\n",
       "      <td>OTHER OFFENSES</td>\n",
       "      <td>Wednesday</td>\n",
       "      <td>-122.425892</td>\n",
       "      <td>37.774599</td>\n",
       "    </tr>\n",
       "    <tr>\n",
       "      <th>2</th>\n",
       "      <td>OTHER OFFENSES</td>\n",
       "      <td>Wednesday</td>\n",
       "      <td>-122.424363</td>\n",
       "      <td>37.800414</td>\n",
       "    </tr>\n",
       "    <tr>\n",
       "      <th>3</th>\n",
       "      <td>LARCENY/THEFT</td>\n",
       "      <td>Wednesday</td>\n",
       "      <td>-122.426995</td>\n",
       "      <td>37.800873</td>\n",
       "    </tr>\n",
       "    <tr>\n",
       "      <th>4</th>\n",
       "      <td>LARCENY/THEFT</td>\n",
       "      <td>Wednesday</td>\n",
       "      <td>-122.438738</td>\n",
       "      <td>37.771541</td>\n",
       "    </tr>\n",
       "  </tbody>\n",
       "</table>\n",
       "</div>"
      ],
      "text/plain": [
       "         Category  DayOfWeek           X          Y\n",
       "0        WARRANTS  Wednesday -122.425892  37.774599\n",
       "1  OTHER OFFENSES  Wednesday -122.425892  37.774599\n",
       "2  OTHER OFFENSES  Wednesday -122.424363  37.800414\n",
       "3   LARCENY/THEFT  Wednesday -122.426995  37.800873\n",
       "4   LARCENY/THEFT  Wednesday -122.438738  37.771541"
      ]
     },
     "execution_count": 28,
     "metadata": {},
     "output_type": "execute_result"
    }
   ],
   "source": [
    "tempdf = data[['Category','DayOfWeek', 'X', 'Y']]\n",
    "tempdf.head()"
   ]
  },
  {
   "cell_type": "code",
   "execution_count": 29,
   "metadata": {},
   "outputs": [
    {
     "name": "stdout",
     "output_type": "stream",
     "text": [
      "Best score: -2.522\n",
      "Best parameters set:\n",
      "\tclf__max_depth: 10\n",
      "\tclf__n_estimators: 250\n"
     ]
    }
   ],
   "source": [
    "df = pd.get_dummies(tempdf, columns=['DayOfWeek'])\n",
    "rf_parameters = {\n",
    "        \"n_estimators\":[250, 300],\n",
    "        \"max_depth\": [5,10]\n",
    "}\n",
    "pipeline = ClassifierPipeline(RandomForestClassifier(), rf_parameters, n_jobs=2)\n",
    "pipeline.fit(df.drop(columns=[\"Category\"]), df['Category'])\n"
   ]
  },
  {
   "cell_type": "markdown",
   "metadata": {},
   "source": [
    "## Utilizando hora e coordenadas"
   ]
  },
  {
   "cell_type": "markdown",
   "metadata": {},
   "source": [
    "E por ultimo, utilizando apenas hora e coordenadas."
   ]
  },
  {
   "cell_type": "code",
   "execution_count": 31,
   "metadata": {},
   "outputs": [
    {
     "data": {
      "text/html": [
       "<div>\n",
       "<style scoped>\n",
       "    .dataframe tbody tr th:only-of-type {\n",
       "        vertical-align: middle;\n",
       "    }\n",
       "\n",
       "    .dataframe tbody tr th {\n",
       "        vertical-align: top;\n",
       "    }\n",
       "\n",
       "    .dataframe thead th {\n",
       "        text-align: right;\n",
       "    }\n",
       "</style>\n",
       "<table border=\"1\" class=\"dataframe\">\n",
       "  <thead>\n",
       "    <tr style=\"text-align: right;\">\n",
       "      <th></th>\n",
       "      <th>Category</th>\n",
       "      <th>Hour</th>\n",
       "      <th>X</th>\n",
       "      <th>Y</th>\n",
       "    </tr>\n",
       "  </thead>\n",
       "  <tbody>\n",
       "    <tr>\n",
       "      <th>0</th>\n",
       "      <td>WARRANTS</td>\n",
       "      <td>23</td>\n",
       "      <td>-122.425892</td>\n",
       "      <td>37.774599</td>\n",
       "    </tr>\n",
       "    <tr>\n",
       "      <th>1</th>\n",
       "      <td>OTHER OFFENSES</td>\n",
       "      <td>23</td>\n",
       "      <td>-122.425892</td>\n",
       "      <td>37.774599</td>\n",
       "    </tr>\n",
       "    <tr>\n",
       "      <th>2</th>\n",
       "      <td>OTHER OFFENSES</td>\n",
       "      <td>23</td>\n",
       "      <td>-122.424363</td>\n",
       "      <td>37.800414</td>\n",
       "    </tr>\n",
       "    <tr>\n",
       "      <th>3</th>\n",
       "      <td>LARCENY/THEFT</td>\n",
       "      <td>23</td>\n",
       "      <td>-122.426995</td>\n",
       "      <td>37.800873</td>\n",
       "    </tr>\n",
       "    <tr>\n",
       "      <th>4</th>\n",
       "      <td>LARCENY/THEFT</td>\n",
       "      <td>23</td>\n",
       "      <td>-122.438738</td>\n",
       "      <td>37.771541</td>\n",
       "    </tr>\n",
       "  </tbody>\n",
       "</table>\n",
       "</div>"
      ],
      "text/plain": [
       "         Category  Hour           X          Y\n",
       "0        WARRANTS    23 -122.425892  37.774599\n",
       "1  OTHER OFFENSES    23 -122.425892  37.774599\n",
       "2  OTHER OFFENSES    23 -122.424363  37.800414\n",
       "3   LARCENY/THEFT    23 -122.426995  37.800873\n",
       "4   LARCENY/THEFT    23 -122.438738  37.771541"
      ]
     },
     "execution_count": 31,
     "metadata": {},
     "output_type": "execute_result"
    }
   ],
   "source": [
    "tempdf = data[['Category','Hour', 'X', 'Y']]\n",
    "tempdf.head()"
   ]
  },
  {
   "cell_type": "code",
   "execution_count": 32,
   "metadata": {},
   "outputs": [
    {
     "name": "stdout",
     "output_type": "stream",
     "text": [
      "Best score: -2.547\n",
      "Best parameters set:\n",
      "\tclf__max_depth: 10\n",
      "\tclf__n_estimators: 300\n"
     ]
    }
   ],
   "source": [
    "df = pd.get_dummies(tempdf, columns=['Hour'])\n",
    "rf_parameters = {\n",
    "        \"n_estimators\":[250, 300],\n",
    "        \"max_depth\": [5,10]\n",
    "}\n",
    "pipeline = ClassifierPipeline(RandomForestClassifier(), rf_parameters, n_jobs=2)\n",
    "pipeline.fit(df.drop(columns=[\"Category\"]), df['Category'])"
   ]
  },
  {
   "cell_type": "markdown",
   "metadata": {},
   "source": [
    "# Conclusoes\n",
    "\n",
    "Observamos que o melhor resultado foi obtido sem considerar os dados temporais. Isso indica a necessidade de investigar modelos que considerem a ordem temporal dos dados para que os padroes de variacoes temporais sejam detectados. Apesar do banco ser bastante grande, foi possivel treinar o modelo random forest e obter uma melhora de performance quando os parametros do modelo foram ajustados."
   ]
  }
 ],
 "metadata": {
  "kernelspec": {
   "display_name": "Python 3",
   "language": "python",
   "name": "python3"
  },
  "language_info": {
   "codemirror_mode": {
    "name": "ipython",
    "version": 3
   },
   "file_extension": ".py",
   "mimetype": "text/x-python",
   "name": "python",
   "nbconvert_exporter": "python",
   "pygments_lexer": "ipython3",
   "version": "3.6.5"
  }
 },
 "nbformat": 4,
 "nbformat_minor": 2
}
